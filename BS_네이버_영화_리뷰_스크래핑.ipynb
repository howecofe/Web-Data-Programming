{
  "nbformat": 4,
  "nbformat_minor": 0,
  "metadata": {
    "colab": {
      "name": "Jiyun Lee - _네이버 영화 리뷰 스크래핑.ipynb",
      "provenance": [],
      "collapsed_sections": [],
      "toc_visible": true
    },
    "kernelspec": {
      "name": "python3",
      "display_name": "Python 3"
    }
  },
  "cells": [
    {
      "cell_type": "markdown",
      "metadata": {
        "id": "brnhfmqsTfbo"
      },
      "source": [
        "# BeautyfulSoup 네이버 영화 리뷰 스크래핑"
      ]
    },
    {
      "cell_type": "markdown",
      "metadata": {
        "id": "810KbByIDvZI"
      },
      "source": [
        "## 네이버 영화 리뷰 스크래핑\n",
        "\n",
        "* 네이버 영화: https://movie.naver.com/movie/point/af/list.nhn"
      ]
    },
    {
      "cell_type": "code",
      "metadata": {
        "id": "V9h_RKcydST5"
      },
      "source": [
        "from bs4 import BeautifulSoup\n",
        "import urllib.request\n",
        "from urllib.parse import quote\n",
        "import pandas as pd\n",
        "\n",
        "def get_movie_reviews(mcode, page_num=10): #default 10\n",
        "\n",
        "  movie_review_df = pd.DataFrame(columns=(\"Title\", \"Score\", \"Review\"))\n",
        "  url = \"https://movie.naver.com/movie/point/af/list.nhn?st=mcode&sword=\" +str(mcode) + \"&target=after\"\n",
        "  idx = 0\n",
        "\n",
        "  for _ in range(0, page_num):\n",
        "    movie_page = urllib.request.urlopen(url).read()\n",
        "    movie_page_soup = BeautifulSoup(movie_page, 'html.parser')\n",
        "\n",
        "    review_list = movie_page_soup.find_all('td', {'class':'title'})\n",
        "    for review in review_list:\n",
        "      title = review.find('a', {'class':'movie color_b'}).get_text()\n",
        "      score = review.find('em').get_text()\n",
        "      review_text = review.find('a', {'class':'report'}).get('href').split(',')[2]\n",
        "      movie_review_df.loc[idx] = [title, score, review_text]\n",
        "      idx += 1\n",
        "      print(\"#\", end=\"\")\n",
        "      \n",
        "    try:        #다음 페이지 없을 경우 예외 처리\n",
        "      url = \"https://movie.naver.com\" + movie_page_soup.find('a', {'class':'pg_next'}).get('href')\n",
        "    except:\n",
        "      break\n",
        "\n",
        "  return movie_review_df"
      ],
      "execution_count": null,
      "outputs": []
    },
    {
      "cell_type": "code",
      "metadata": {
        "id": "hn1fIqrwhyjs",
        "colab": {
          "base_uri": "https://localhost:8080/",
          "height": 434
        },
        "outputId": "2a9f3040-8b91-44a4-d44a-a1e84845fdde"
      },
      "source": [
        "movie_review_df = get_movie_reviews(18847, 10)\n",
        "movie_review_df"
      ],
      "execution_count": null,
      "outputs": [
        {
          "output_type": "stream",
          "text": [
            "####################################################################################################"
          ],
          "name": "stdout"
        },
        {
          "output_type": "execute_result",
          "data": {
            "text/html": [
              "<div>\n",
              "<style scoped>\n",
              "    .dataframe tbody tr th:only-of-type {\n",
              "        vertical-align: middle;\n",
              "    }\n",
              "\n",
              "    .dataframe tbody tr th {\n",
              "        vertical-align: top;\n",
              "    }\n",
              "\n",
              "    .dataframe thead th {\n",
              "        text-align: right;\n",
              "    }\n",
              "</style>\n",
              "<table border=\"1\" class=\"dataframe\">\n",
              "  <thead>\n",
              "    <tr style=\"text-align: right;\">\n",
              "      <th></th>\n",
              "      <th>Title</th>\n",
              "      <th>Score</th>\n",
              "      <th>Review</th>\n",
              "    </tr>\n",
              "  </thead>\n",
              "  <tbody>\n",
              "    <tr>\n",
              "      <th>0</th>\n",
              "      <td>타이타닉</td>\n",
              "      <td>10</td>\n",
              "      <td>''</td>\n",
              "    </tr>\n",
              "    <tr>\n",
              "      <th>1</th>\n",
              "      <td>타이타닉</td>\n",
              "      <td>10</td>\n",
              "      <td>'상실을 아는 사람들이 살아가는 이야기'</td>\n",
              "    </tr>\n",
              "    <tr>\n",
              "      <th>2</th>\n",
              "      <td>타이타닉</td>\n",
              "      <td>10</td>\n",
              "      <td>''</td>\n",
              "    </tr>\n",
              "    <tr>\n",
              "      <th>3</th>\n",
              "      <td>타이타닉</td>\n",
              "      <td>10</td>\n",
              "      <td>''</td>\n",
              "    </tr>\n",
              "    <tr>\n",
              "      <th>4</th>\n",
              "      <td>타이타닉</td>\n",
              "      <td>10</td>\n",
              "      <td>'최고의 영화 말이 필요없음'</td>\n",
              "    </tr>\n",
              "    <tr>\n",
              "      <th>...</th>\n",
              "      <td>...</td>\n",
              "      <td>...</td>\n",
              "      <td>...</td>\n",
              "    </tr>\n",
              "    <tr>\n",
              "      <th>95</th>\n",
              "      <td>타이타닉</td>\n",
              "      <td>10</td>\n",
              "      <td>''</td>\n",
              "    </tr>\n",
              "    <tr>\n",
              "      <th>96</th>\n",
              "      <td>타이타닉</td>\n",
              "      <td>10</td>\n",
              "      <td>'미쳤네요 제 인생최고의 영화'</td>\n",
              "    </tr>\n",
              "    <tr>\n",
              "      <th>97</th>\n",
              "      <td>타이타닉</td>\n",
              "      <td>10</td>\n",
              "      <td>''</td>\n",
              "    </tr>\n",
              "    <tr>\n",
              "      <th>98</th>\n",
              "      <td>타이타닉</td>\n",
              "      <td>10</td>\n",
              "      <td>'송규 지현 소정과 함께 봐서 행복했습니다.'</td>\n",
              "    </tr>\n",
              "    <tr>\n",
              "      <th>99</th>\n",
              "      <td>타이타닉</td>\n",
              "      <td>10</td>\n",
              "      <td>'이 영화를 안봤던게 후회가 된다'</td>\n",
              "    </tr>\n",
              "  </tbody>\n",
              "</table>\n",
              "<p>100 rows × 3 columns</p>\n",
              "</div>"
            ],
            "text/plain": [
              "   Title Score                      Review\n",
              "0   타이타닉    10                          ''\n",
              "1   타이타닉    10      '상실을 아는 사람들이 살아가는 이야기'\n",
              "2   타이타닉    10                          ''\n",
              "3   타이타닉    10                          ''\n",
              "4   타이타닉    10            '최고의 영화 말이 필요없음'\n",
              "..   ...   ...                         ...\n",
              "95  타이타닉    10                          ''\n",
              "96  타이타닉    10           '미쳤네요 제 인생최고의 영화'\n",
              "97  타이타닉    10                          ''\n",
              "98  타이타닉    10   '송규 지현 소정과 함께 봐서 행복했습니다.'\n",
              "99  타이타닉    10         '이 영화를 안봤던게 후회가 된다'\n",
              "\n",
              "[100 rows x 3 columns]"
            ]
          },
          "metadata": {
            "tags": []
          },
          "execution_count": 10
        }
      ]
    },
    {
      "cell_type": "markdown",
      "metadata": {
        "id": "cePQNVwEGfUA"
      },
      "source": [
        "## 현재상영작 영화 리뷰 스크래핑"
      ]
    },
    {
      "cell_type": "code",
      "metadata": {
        "id": "x3jq0E3eFzte",
        "colab": {
          "base_uri": "https://localhost:8080/",
          "height": 558
        },
        "outputId": "32684447-5cc7-4542-a410-54b649aa2a5b"
      },
      "source": [
        "url = \"https://movie.naver.com/movie/point/af/list.nhn\"\n",
        "naver_movie = urllib.request.urlopen(url).read()\n",
        "soup = BeautifulSoup(naver_movie, 'html.parser')\n",
        "select = soup.find('select', {'id':'current_movie'})\n",
        "movies = select.find_all('option')\n",
        "\n",
        "movies_dict = {}\n",
        "for movie in movies[1:]:\n",
        "  movies_dict[movie.get('value')] = movie.get_text()\n",
        "\n",
        "movie_review_df = pd.DataFrame(columns=(\"Title\", \"Score\", \"Review\"))\n",
        "for mcode in movies_dict:\n",
        "  df = get_movie_reviews(mcode, 1)\n",
        "  movie_review_df = pd.concat([movie_review_df, df]) #새로 받은 df를 concat해줌\n",
        "\n",
        "movie_review_df"
      ],
      "execution_count": null,
      "outputs": [
        {
          "output_type": "stream",
          "text": [
            "##################################################################################################################################################################################################################################################################################################################################################################################################################################################################################################################################################################################################################################################################################################################################################################################################################################################################################################################################################################################################################################################################################################################################################################################################################"
          ],
          "name": "stdout"
        },
        {
          "output_type": "execute_result",
          "data": {
            "text/html": [
              "<div>\n",
              "<style scoped>\n",
              "    .dataframe tbody tr th:only-of-type {\n",
              "        vertical-align: middle;\n",
              "    }\n",
              "\n",
              "    .dataframe tbody tr th {\n",
              "        vertical-align: top;\n",
              "    }\n",
              "\n",
              "    .dataframe thead th {\n",
              "        text-align: right;\n",
              "    }\n",
              "</style>\n",
              "<table border=\"1\" class=\"dataframe\">\n",
              "  <thead>\n",
              "    <tr style=\"text-align: right;\">\n",
              "      <th></th>\n",
              "      <th>Title</th>\n",
              "      <th>Score</th>\n",
              "      <th>Review</th>\n",
              "    </tr>\n",
              "  </thead>\n",
              "  <tbody>\n",
              "    <tr>\n",
              "      <th>0</th>\n",
              "      <td>극장판 짱구는 못말려: 신혼여행 허리케인~ 사라진 아빠!</td>\n",
              "      <td>1</td>\n",
              "      <td>'웃겨요 그냥 어이없어서'</td>\n",
              "    </tr>\n",
              "    <tr>\n",
              "      <th>1</th>\n",
              "      <td>극장판 짱구는 못말려: 신혼여행 허리케인~ 사라진 아빠!</td>\n",
              "      <td>10</td>\n",
              "      <td>' 말할게 없음 항상 최고'</td>\n",
              "    </tr>\n",
              "    <tr>\n",
              "      <th>2</th>\n",
              "      <td>극장판 짱구는 못말려: 신혼여행 허리케인~ 사라진 아빠!</td>\n",
              "      <td>10</td>\n",
              "      <td>'엄마가 주가 된건 처음 같은데 너무 감동적이였고 어른제국의 역습 급이라고 생각해...</td>\n",
              "    </tr>\n",
              "    <tr>\n",
              "      <th>3</th>\n",
              "      <td>극장판 짱구는 못말려: 신혼여행 허리케인~ 사라진 아빠!</td>\n",
              "      <td>10</td>\n",
              "      <td>''</td>\n",
              "    </tr>\n",
              "    <tr>\n",
              "      <th>4</th>\n",
              "      <td>극장판 짱구는 못말려: 신혼여행 허리케인~ 사라진 아빠!</td>\n",
              "      <td>10</td>\n",
              "      <td>'애가 좋아해서 보여주러 갔다가 제가 감동받고 재밌게 보고 왔어요 ㅎ IPTV로 ...</td>\n",
              "    </tr>\n",
              "    <tr>\n",
              "      <th>...</th>\n",
              "      <td>...</td>\n",
              "      <td>...</td>\n",
              "      <td>...</td>\n",
              "    </tr>\n",
              "    <tr>\n",
              "      <th>5</th>\n",
              "      <td>왕중왕</td>\n",
              "      <td>9</td>\n",
              "      <td>'예수를 다룬 영화중에 가장 뛰어나다...'</td>\n",
              "    </tr>\n",
              "    <tr>\n",
              "      <th>6</th>\n",
              "      <td>왕중왕</td>\n",
              "      <td>2</td>\n",
              "      <td>'예수 같은 왕 둔 적 없다.'</td>\n",
              "    </tr>\n",
              "    <tr>\n",
              "      <th>7</th>\n",
              "      <td>왕중왕</td>\n",
              "      <td>10</td>\n",
              "      <td>'예수님의 왕 자리는  대통령 이나  수상이나 황제나  천왕  의  자리가  아니...</td>\n",
              "    </tr>\n",
              "    <tr>\n",
              "      <th>8</th>\n",
              "      <td>왕중왕</td>\n",
              "      <td>10</td>\n",
              "      <td>'20세기가 낳은    최고의 명작'</td>\n",
              "    </tr>\n",
              "    <tr>\n",
              "      <th>9</th>\n",
              "      <td>왕중왕</td>\n",
              "      <td>10</td>\n",
              "      <td>'제프리 헌터의 명연기가 돋보인다'</td>\n",
              "    </tr>\n",
              "  </tbody>\n",
              "</table>\n",
              "<p>1170 rows × 3 columns</p>\n",
              "</div>"
            ],
            "text/plain": [
              "                              Title  ...                                             Review\n",
              "0   극장판 짱구는 못말려: 신혼여행 허리케인~ 사라진 아빠!  ...                                     '웃겨요 그냥 어이없어서'\n",
              "1   극장판 짱구는 못말려: 신혼여행 허리케인~ 사라진 아빠!  ...                                    ' 말할게 없음 항상 최고'\n",
              "2   극장판 짱구는 못말려: 신혼여행 허리케인~ 사라진 아빠!  ...   '엄마가 주가 된건 처음 같은데 너무 감동적이였고 어른제국의 역습 급이라고 생각해...\n",
              "3   극장판 짱구는 못말려: 신혼여행 허리케인~ 사라진 아빠!  ...                                                 ''\n",
              "4   극장판 짱구는 못말려: 신혼여행 허리케인~ 사라진 아빠!  ...   '애가 좋아해서 보여주러 갔다가 제가 감동받고 재밌게 보고 왔어요 ㅎ IPTV로 ...\n",
              "..                              ...  ...                                                ...\n",
              "5                               왕중왕  ...                           '예수를 다룬 영화중에 가장 뛰어나다...'\n",
              "6                               왕중왕  ...                                  '예수 같은 왕 둔 적 없다.'\n",
              "7                               왕중왕  ...   '예수님의 왕 자리는  대통령 이나  수상이나 황제나  천왕  의  자리가  아니...\n",
              "8                               왕중왕  ...                               '20세기가 낳은    최고의 명작'\n",
              "9                               왕중왕  ...                                '제프리 헌터의 명연기가 돋보인다'\n",
              "\n",
              "[1170 rows x 3 columns]"
            ]
          },
          "metadata": {
            "tags": []
          },
          "execution_count": 11
        }
      ]
    }
  ]
}