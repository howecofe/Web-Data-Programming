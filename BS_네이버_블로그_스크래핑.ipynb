{
  "nbformat": 4,
  "nbformat_minor": 0,
  "metadata": {
    "colab": {
      "name": "Jiyun Lee - _네이버 블로그 스크래핑.ipynb",
      "provenance": [],
      "collapsed_sections": []
    },
    "kernelspec": {
      "name": "python3",
      "display_name": "Python 3"
    }
  },
  "cells": [
    {
      "cell_type": "markdown",
      "metadata": {
        "id": "UPHtVV-4zEJ6"
      },
      "source": [
        "# BeautyfulSoup 네이버 블로그 스크래핑"
      ]
    },
    {
      "cell_type": "markdown",
      "metadata": {
        "id": "d3qHWncUqw14"
      },
      "source": [
        "## 블로그 포스트 스크래핑 함수 정의"
      ]
    },
    {
      "cell_type": "code",
      "metadata": {
        "id": "xnVKBykSiGh5"
      },
      "source": [
        "from bs4 import BeautifulSoup\n",
        "import urllib.request\n",
        "from urllib.parse import quote\n",
        "import pandas as pd\n",
        "\n",
        "def get_posts(query, page_num=10):\n",
        "\n",
        "  url_query = quote(query)\n",
        "  url = \"https://search.naver.com/search.naver?where=post&sm=tab_jum&query=\" + url_query\n",
        "  post_df = pd.DataFrame(columns=(\"Title\", \"Date\", \"Blogger\", \"Blog URL\", \"Post URL\", \"Post\"))\n",
        "  idx = 0\n",
        "\n",
        "  for _ in range(0, page_num):\n",
        "\n",
        "    search_url = urllib.request.urlopen(url).read()\n",
        "    soup = BeautifulSoup(search_url, 'html.parser')\n",
        "    posts = soup.find_all('li', {'class':'sh_blog_top'})\n",
        "\n",
        "    for post in posts:\n",
        "      title = post.find('a', {'class':'sh_blog_title _sp_each_url _sp_each_title'}).get('title')\n",
        "      date = post.find('dd', {'class':'txt_inline'}).get_text()\n",
        "      blogger = post.find('a', {'class':'txt84'}).get_text()\n",
        "      blog_url = post.find('a', {'class':'txt84'}).get('href')\n",
        "      post_url = post.find('a', {'class':'url'}).get('href')\n",
        "      post_link = urllib.request.urlopen(post_url).read()\n",
        "      post_html = BeautifulSoup(post_link, 'html.parser')\n",
        "\n",
        "      post_content_text=\"\" #메인 프레임 여러개일 경우 post_content_text 더해줄 변수\n",
        "\n",
        "      for main_frame in post_html.select(\"iframe#mainFrame\"): #네이버 블로그에서 메인프레임은 보통 1개이지만, 여러개일 경우 대비\n",
        "        frame_url = \"https://blog.naver.com\" + main_frame.get('src')\n",
        "        post_text = urllib.request.urlopen(frame_url).read()\n",
        "        post_html = BeautifulSoup(post_text, 'html.parser')\n",
        "        #post_content_text = \"\"\n",
        "          #for post_content in post_html.find_all('div', {'class':'se-main-container'}):\n",
        "            #post_content_text = post_content.get_text()\n",
        "\n",
        "        try:\n",
        "          post_content_text += post_html.find('div', {'class':'se-main-container'}).get_text()\n",
        "          post_content_text = post_content_text.replace(\"\\n\", \"\")\n",
        "          post_content_text = post_content_text.replace(\"\\t\", \"\")\n",
        "        except:\n",
        "          continue\n",
        "\n",
        "      post_df.loc[idx] = [title, date, blogger, blog_url, post_url, post_content_text]\n",
        "      idx += 1\n",
        "      print(\"#\", end=\"\")\n",
        "\n",
        "    try:\n",
        "      next = soup.find('a', {'class':'next'}).get('href')\n",
        "      url = \"https://search.naver.com/search.naver\" + next\n",
        "    except:\n",
        "      break\n",
        "\n",
        "  return post_df"
      ],
      "execution_count": null,
      "outputs": []
    },
    {
      "cell_type": "markdown",
      "metadata": {
        "id": "tJftiNeEq6A5"
      },
      "source": [
        "## 블로그 포스트 스크래핑 실행"
      ]
    },
    {
      "cell_type": "code",
      "metadata": {
        "id": "1Ik6uftXiHys",
        "colab": {
          "base_uri": "https://localhost:8080/",
          "height": 55
        },
        "outputId": "b999063c-0d7d-491a-a772-cf187417548f"
      },
      "source": [
        "query = input(\"검색 질의: \")\n",
        "post_df = get_posts(query, 10)\n",
        "print(\"Done\")"
      ],
      "execution_count": null,
      "outputs": [
        {
          "output_type": "stream",
          "text": [
            "검색 질의: 컴퓨터\n",
            "####################################################################################################Done\n"
          ],
          "name": "stdout"
        }
      ]
    },
    {
      "cell_type": "code",
      "metadata": {
        "id": "tGlgikpSsAox",
        "colab": {
          "base_uri": "https://localhost:8080/",
          "height": 953
        },
        "outputId": "f9a5a389-a1ac-4e49-9edd-5c3b248418cf"
      },
      "source": [
        "post_df"
      ],
      "execution_count": null,
      "outputs": [
        {
          "output_type": "execute_result",
          "data": {
            "text/html": [
              "<div>\n",
              "<style scoped>\n",
              "    .dataframe tbody tr th:only-of-type {\n",
              "        vertical-align: middle;\n",
              "    }\n",
              "\n",
              "    .dataframe tbody tr th {\n",
              "        vertical-align: top;\n",
              "    }\n",
              "\n",
              "    .dataframe thead th {\n",
              "        text-align: right;\n",
              "    }\n",
              "</style>\n",
              "<table border=\"1\" class=\"dataframe\">\n",
              "  <thead>\n",
              "    <tr style=\"text-align: right;\">\n",
              "      <th></th>\n",
              "      <th>Title</th>\n",
              "      <th>Date</th>\n",
              "      <th>Blogger</th>\n",
              "      <th>Blog URL</th>\n",
              "      <th>Post URL</th>\n",
              "      <th>Post</th>\n",
              "    </tr>\n",
              "  </thead>\n",
              "  <tbody>\n",
              "    <tr>\n",
              "      <th>0</th>\n",
              "      <td>니가 왜?? AMD 라이젠5 3600 + RTX2060 신품같은 중고 게임용컴퓨터가...</td>\n",
              "      <td>22시간 전</td>\n",
              "      <td>루나컴퓨터</td>\n",
              "      <td>https://jady06.blog.me</td>\n",
              "      <td>https://jady06.blog.me/222070524365</td>\n",
              "      <td></td>\n",
              "    </tr>\n",
              "    <tr>\n",
              "      <th>1</th>\n",
              "      <td>I7+2060S 조합 고사양게임용컴퓨터</td>\n",
              "      <td>7일 전</td>\n",
              "      <td>원트컴 (구.마블컴)</td>\n",
              "      <td>https://blog.naver.com/all_in_box</td>\n",
              "      <td>https://blog.naver.com/all_in_box?Redirect=Log...</td>\n",
              "      <td>고사양게임용컴퓨터​오늘은 일반적인 게이밍 피씨 옵션중에서도 조금 더, 나은 환경에서...</td>\n",
              "    </tr>\n",
              "    <tr>\n",
              "      <th>2</th>\n",
              "      <td>숯공장에서 온라인주문 확인할 저렴한 컴퓨터. 모니터 포함 30만원이하로.../ 라이...</td>\n",
              "      <td>어제</td>\n",
              "      <td>.</td>\n",
              "      <td>https://blog.naver.com/zxcvnm13k</td>\n",
              "      <td>https://blog.naver.com/zxcvnm13k?Redirect=Log&amp;...</td>\n",
              "      <td>​공장에서 온라인 주문만 하면 된다고 하여... 문의한 분이다. 알고보니 대략 8년...</td>\n",
              "    </tr>\n",
              "    <tr>\n",
              "      <th>3</th>\n",
              "      <td>4K 작업에 최적화된 영상편집용 컴퓨터</td>\n",
              "      <td>3일 전</td>\n",
              "      <td>조인스컴 공식블로그</td>\n",
              "      <td>https://blog.naver.com/hanwoo10303</td>\n",
              "      <td>https://blog.naver.com/hanwoo10303?Redirect=Lo...</td>\n",
              "      <td>오늘은 성능과 가성비를 동시에 잡은 4K 영상편집용 컴퓨터를 소개해 드리겠습니다. ...</td>\n",
              "    </tr>\n",
              "    <tr>\n",
              "      <th>4</th>\n",
              "      <td>강남컴퓨터학원 꿈을 위한 한걸음!</td>\n",
              "      <td>20시간 전</td>\n",
              "      <td>English and Life♥</td>\n",
              "      <td>https://blog.naver.com/aldus9834</td>\n",
              "      <td>https://blog.naver.com/aldus9834?Redirect=Log&amp;...</td>\n",
              "      <td>여태 다루고 있었던 전공과는무관하지만 그래도 배우고 싶었던게 있었어요혼자 시작하려 ...</td>\n",
              "    </tr>\n",
              "    <tr>\n",
              "      <th>...</th>\n",
              "      <td>...</td>\n",
              "      <td>...</td>\n",
              "      <td>...</td>\n",
              "      <td>...</td>\n",
              "      <td>...</td>\n",
              "      <td>...</td>\n",
              "    </tr>\n",
              "    <tr>\n",
              "      <th>95</th>\n",
              "      <td>컴퓨터가 느려진다면? 구라제거기 다운로드 설치 방법은?</td>\n",
              "      <td>2020.03.31.</td>\n",
              "      <td>영댕이의 funfun한 ...</td>\n",
              "      <td>https://funfunhan.com/</td>\n",
              "      <td>https://funfunhan.com/2476774?category=158981</td>\n",
              "      <td></td>\n",
              "    </tr>\n",
              "    <tr>\n",
              "      <th>96</th>\n",
              "      <td>컴퓨터와 키보드 청소를 위한 알리발 먼지제거기 언박싱!</td>\n",
              "      <td>2020.04.14.</td>\n",
              "      <td>영댕이의 funfun한 ...</td>\n",
              "      <td>https://funfunhan.com/</td>\n",
              "      <td>https://funfunhan.com/2476779?category=41829</td>\n",
              "      <td></td>\n",
              "    </tr>\n",
              "    <tr>\n",
              "      <th>97</th>\n",
              "      <td>컴퓨터 화면 캡쳐 기본 프로그램과 단축키 이용하는 방법</td>\n",
              "      <td>2020.04.16.</td>\n",
              "      <td>모이모이의 IT 이야...</td>\n",
              "      <td>https://blog.naver.com/moimoi1357</td>\n",
              "      <td>https://blog.naver.com/moimoi1357?Redirect=Log...</td>\n",
              "      <td>다양한 최신 IT 기기에 대해 살펴보고 성능과 장단점에 대한 테스트를 진행하면서 사...</td>\n",
              "    </tr>\n",
              "    <tr>\n",
              "      <th>98</th>\n",
              "      <td>화이트 맞춤 인텔 i7 10700F 조합으로 게임방송,3D 영상편집용 멀티플레이어 ...</td>\n",
              "      <td>2020.07.29.</td>\n",
              "      <td>연우컴퓨터 1.1</td>\n",
              "      <td>https://blog.naver.com/sham0089</td>\n",
              "      <td>https://blog.naver.com/sham0089?Redirect=Log&amp;l...</td>\n",
              "      <td>안녕하세요  7월 한 달 내내 비 소식으로 이제는 비가 그만 내리면 좋겠다고비가 너...</td>\n",
              "    </tr>\n",
              "    <tr>\n",
              "      <th>99</th>\n",
              "      <td>3500X + 2060s로 제작한 게임용 조립컴퓨터</td>\n",
              "      <td>2020.06.07.</td>\n",
              "      <td>컴온의 알찬블로그</td>\n",
              "      <td>https://blog.naver.com/comon2f</td>\n",
              "      <td>https://blog.naver.com/comon2f?Redirect=Log&amp;lo...</td>\n",
              "      <td>장담컨데 가장 이상적인 부품 조합으로 제작한라이젠 3500X + RTX2060 SU...</td>\n",
              "    </tr>\n",
              "  </tbody>\n",
              "</table>\n",
              "<p>100 rows × 6 columns</p>\n",
              "</div>"
            ],
            "text/plain": [
              "                                                Title  ...                                               Post\n",
              "0   니가 왜?? AMD 라이젠5 3600 + RTX2060 신품같은 중고 게임용컴퓨터가...  ...                                                   \n",
              "1                               I7+2060S 조합 고사양게임용컴퓨터  ...  고사양게임용컴퓨터​오늘은 일반적인 게이밍 피씨 옵션중에서도 조금 더, 나은 환경에서...\n",
              "2   숯공장에서 온라인주문 확인할 저렴한 컴퓨터. 모니터 포함 30만원이하로.../ 라이...  ...  ​공장에서 온라인 주문만 하면 된다고 하여... 문의한 분이다. 알고보니 대략 8년...\n",
              "3                               4K 작업에 최적화된 영상편집용 컴퓨터  ...  오늘은 성능과 가성비를 동시에 잡은 4K 영상편집용 컴퓨터를 소개해 드리겠습니다. ...\n",
              "4                                  강남컴퓨터학원 꿈을 위한 한걸음!  ...  여태 다루고 있었던 전공과는무관하지만 그래도 배우고 싶었던게 있었어요혼자 시작하려 ...\n",
              "..                                                ...  ...                                                ...\n",
              "95                     컴퓨터가 느려진다면? 구라제거기 다운로드 설치 방법은?  ...                                                   \n",
              "96                     컴퓨터와 키보드 청소를 위한 알리발 먼지제거기 언박싱!  ...                                                   \n",
              "97                     컴퓨터 화면 캡쳐 기본 프로그램과 단축키 이용하는 방법  ...  다양한 최신 IT 기기에 대해 살펴보고 성능과 장단점에 대한 테스트를 진행하면서 사...\n",
              "98  화이트 맞춤 인텔 i7 10700F 조합으로 게임방송,3D 영상편집용 멀티플레이어 ...  ...  안녕하세요  7월 한 달 내내 비 소식으로 이제는 비가 그만 내리면 좋겠다고비가 너...\n",
              "99                       3500X + 2060s로 제작한 게임용 조립컴퓨터  ...  장담컨데 가장 이상적인 부품 조합으로 제작한라이젠 3500X + RTX2060 SU...\n",
              "\n",
              "[100 rows x 6 columns]"
            ]
          },
          "metadata": {
            "tags": []
          },
          "execution_count": 16
        }
      ]
    }
  ]
}