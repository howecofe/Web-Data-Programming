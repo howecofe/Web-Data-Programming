{
  "nbformat": 4,
  "nbformat_minor": 0,
  "metadata": {
    "colab": {
      "name": "Jiyun Lee - _국회의원 데이터 스크래핑.ipynb",
      "provenance": [],
      "collapsed_sections": []
    },
    "kernelspec": {
      "name": "python3",
      "display_name": "Python 3"
    }
  },
  "cells": [
    {
      "cell_type": "markdown",
      "metadata": {
        "id": "suEY-kSdMIik"
      },
      "source": [
        "# Selenium 국회의원 데이터 스크래핑"
      ]
    },
    {
      "cell_type": "markdown",
      "metadata": {
        "id": "3h-QaTL7MOK5"
      },
      "source": [
        "## Selenium 및 웹 드라이버 설치"
      ]
    },
    {
      "cell_type": "code",
      "metadata": {
        "id": "1A-DPMQTYVeI",
        "colab": {
          "base_uri": "https://localhost:8080/",
          "height": 1000
        },
        "outputId": "28592958-bac3-45fc-87db-0172a0fd13c5"
      },
      "source": [
        "!pip install Selenium\n",
        "!apt-get update\n",
        "!apt install chromium-chromedriver\n",
        "!cp /usr/lib/chromium-browser/chromedriver /usr/bin\n",
        "\n",
        "import sys\n",
        "sys.path.insert(0, '/usr/lib/chromium-browser/chromedriver')"
      ],
      "execution_count": null,
      "outputs": [
        {
          "output_type": "stream",
          "text": [
            "Collecting Selenium\n",
            "\u001b[?25l  Downloading https://files.pythonhosted.org/packages/80/d6/4294f0b4bce4de0abf13e17190289f9d0613b0a44e5dd6a7f5ca98459853/selenium-3.141.0-py2.py3-none-any.whl (904kB)\n",
            "\u001b[K     |████████████████████████████████| 911kB 4.5MB/s \n",
            "\u001b[?25hRequirement already satisfied: urllib3 in /usr/local/lib/python3.6/dist-packages (from Selenium) (1.24.3)\n",
            "Installing collected packages: Selenium\n",
            "Successfully installed Selenium-3.141.0\n",
            "Get:1 https://cloud.r-project.org/bin/linux/ubuntu bionic-cran35/ InRelease [3,626 B]\n",
            "Ign:2 https://developer.download.nvidia.com/compute/cuda/repos/ubuntu1804/x86_64  InRelease\n",
            "Ign:3 https://developer.download.nvidia.com/compute/machine-learning/repos/ubuntu1804/x86_64  InRelease\n",
            "Get:4 https://developer.download.nvidia.com/compute/cuda/repos/ubuntu1804/x86_64  Release [697 B]\n",
            "Hit:5 https://developer.download.nvidia.com/compute/machine-learning/repos/ubuntu1804/x86_64  Release\n",
            "Get:6 https://developer.download.nvidia.com/compute/cuda/repos/ubuntu1804/x86_64  Release.gpg [836 B]\n",
            "Get:7 http://ppa.launchpad.net/graphics-drivers/ppa/ubuntu bionic InRelease [21.3 kB]\n",
            "Get:8 http://security.ubuntu.com/ubuntu bionic-security InRelease [88.7 kB]\n",
            "Get:9 https://cloud.r-project.org/bin/linux/ubuntu bionic-cran35/ Packages [95.3 kB]\n",
            "Hit:10 http://archive.ubuntu.com/ubuntu bionic InRelease\n",
            "Get:12 http://archive.ubuntu.com/ubuntu bionic-updates InRelease [88.7 kB]\n",
            "Ign:13 https://developer.download.nvidia.com/compute/cuda/repos/ubuntu1804/x86_64  Packages\n",
            "Get:13 https://developer.download.nvidia.com/compute/cuda/repos/ubuntu1804/x86_64  Packages [255 kB]\n",
            "Get:14 http://ppa.launchpad.net/marutter/c2d4u3.5/ubuntu bionic InRelease [15.4 kB]\n",
            "Get:15 http://archive.ubuntu.com/ubuntu bionic-backports InRelease [74.6 kB]\n",
            "Get:16 http://ppa.launchpad.net/graphics-drivers/ppa/ubuntu bionic/main amd64 Packages [43.0 kB]\n",
            "Get:17 http://security.ubuntu.com/ubuntu bionic-security/main amd64 Packages [1,045 kB]\n",
            "Get:18 http://archive.ubuntu.com/ubuntu bionic-updates/universe amd64 Packages [1,418 kB]\n",
            "Get:19 http://ppa.launchpad.net/marutter/c2d4u3.5/ubuntu bionic/main Sources [1,857 kB]\n",
            "Get:20 http://security.ubuntu.com/ubuntu bionic-security/universe amd64 Packages [890 kB]\n",
            "Get:21 http://archive.ubuntu.com/ubuntu bionic-updates/main amd64 Packages [1,341 kB]\n",
            "Get:22 http://ppa.launchpad.net/marutter/c2d4u3.5/ubuntu bionic/main amd64 Packages [896 kB]\n",
            "Fetched 8,135 kB in 4s (1,999 kB/s)\n",
            "Reading package lists... Done\n",
            "Reading package lists... Done\n",
            "Building dependency tree       \n",
            "Reading state information... Done\n",
            "The following package was automatically installed and is no longer required:\n",
            "  libnvidia-common-440\n",
            "Use 'apt autoremove' to remove it.\n",
            "The following additional packages will be installed:\n",
            "  chromium-browser chromium-browser-l10n chromium-codecs-ffmpeg-extra\n",
            "Suggested packages:\n",
            "  webaccounts-chromium-extension unity-chromium-extension adobe-flashplugin\n",
            "The following NEW packages will be installed:\n",
            "  chromium-browser chromium-browser-l10n chromium-chromedriver\n",
            "  chromium-codecs-ffmpeg-extra\n",
            "0 upgraded, 4 newly installed, 0 to remove and 63 not upgraded.\n",
            "Need to get 76.2 MB of archives.\n",
            "After this operation, 255 MB of additional disk space will be used.\n",
            "Get:1 http://archive.ubuntu.com/ubuntu bionic-updates/universe amd64 chromium-codecs-ffmpeg-extra amd64 84.0.4147.105-0ubuntu0.18.04.1 [1,118 kB]\n",
            "Get:2 http://archive.ubuntu.com/ubuntu bionic-updates/universe amd64 chromium-browser amd64 84.0.4147.105-0ubuntu0.18.04.1 [67.4 MB]\n",
            "Get:3 http://archive.ubuntu.com/ubuntu bionic-updates/universe amd64 chromium-browser-l10n all 84.0.4147.105-0ubuntu0.18.04.1 [3,379 kB]\n",
            "Get:4 http://archive.ubuntu.com/ubuntu bionic-updates/universe amd64 chromium-chromedriver amd64 84.0.4147.105-0ubuntu0.18.04.1 [4,354 kB]\n",
            "Fetched 76.2 MB in 5s (15.7 MB/s)\n",
            "Selecting previously unselected package chromium-codecs-ffmpeg-extra.\n",
            "(Reading database ... 144556 files and directories currently installed.)\n",
            "Preparing to unpack .../chromium-codecs-ffmpeg-extra_84.0.4147.105-0ubuntu0.18.04.1_amd64.deb ...\n",
            "Unpacking chromium-codecs-ffmpeg-extra (84.0.4147.105-0ubuntu0.18.04.1) ...\n",
            "Selecting previously unselected package chromium-browser.\n",
            "Preparing to unpack .../chromium-browser_84.0.4147.105-0ubuntu0.18.04.1_amd64.deb ...\n",
            "Unpacking chromium-browser (84.0.4147.105-0ubuntu0.18.04.1) ...\n",
            "Selecting previously unselected package chromium-browser-l10n.\n",
            "Preparing to unpack .../chromium-browser-l10n_84.0.4147.105-0ubuntu0.18.04.1_all.deb ...\n",
            "Unpacking chromium-browser-l10n (84.0.4147.105-0ubuntu0.18.04.1) ...\n",
            "Selecting previously unselected package chromium-chromedriver.\n",
            "Preparing to unpack .../chromium-chromedriver_84.0.4147.105-0ubuntu0.18.04.1_amd64.deb ...\n",
            "Unpacking chromium-chromedriver (84.0.4147.105-0ubuntu0.18.04.1) ...\n",
            "Setting up chromium-codecs-ffmpeg-extra (84.0.4147.105-0ubuntu0.18.04.1) ...\n",
            "Setting up chromium-browser (84.0.4147.105-0ubuntu0.18.04.1) ...\n",
            "update-alternatives: using /usr/bin/chromium-browser to provide /usr/bin/x-www-browser (x-www-browser) in auto mode\n",
            "update-alternatives: using /usr/bin/chromium-browser to provide /usr/bin/gnome-www-browser (gnome-www-browser) in auto mode\n",
            "Setting up chromium-chromedriver (84.0.4147.105-0ubuntu0.18.04.1) ...\n",
            "Setting up chromium-browser-l10n (84.0.4147.105-0ubuntu0.18.04.1) ...\n",
            "Processing triggers for hicolor-icon-theme (0.17-2) ...\n",
            "Processing triggers for mime-support (3.60ubuntu1) ...\n",
            "Processing triggers for man-db (2.8.3-2ubuntu0.1) ...\n",
            "cp: '/usr/lib/chromium-browser/chromedriver' and '/usr/bin/chromedriver' are the same file\n"
          ],
          "name": "stdout"
        }
      ]
    },
    {
      "cell_type": "markdown",
      "metadata": {
        "id": "poBbcTTYMQpn"
      },
      "source": [
        "## 라이브러리 import"
      ]
    },
    {
      "cell_type": "code",
      "metadata": {
        "id": "PiC1O-lrYXEF"
      },
      "source": [
        "import os\n",
        "import shutil\n",
        "import time\n",
        "import pandas as pd\n",
        "from selenium import webdriver\n",
        "from selenium.common.exceptions import NoSuchElementException\n",
        "from urllib.request import urlretrieve \n",
        "\n",
        "chrome_options = webdriver.ChromeOptions()\n",
        "chrome_options.add_argument('--headless')\n",
        "chrome_options.add_argument('--no-sandbox')\n",
        "chrome_options.add_argument('--disable-div-shm-usage')"
      ],
      "execution_count": null,
      "outputs": []
    },
    {
      "cell_type": "markdown",
      "metadata": {
        "id": "ie7-_HoXP5b7"
      },
      "source": [
        "# 국회의원 기본정보 스크래핑"
      ]
    },
    {
      "cell_type": "code",
      "metadata": {
        "id": "Sqth_Iu4aiEv"
      },
      "source": [
        "def get_politician_info(dir_name, wd):\n",
        "  \n",
        "  profile_info = wd.find_element_by_class_name('depAnalProfileTbl')\n",
        "\n",
        "  cols = profile_info.find_elements_by_tag_name('th')\n",
        "  columns = [col.text for col in cols]\n",
        "\n",
        "  infos = profile_info.find_elements_by_tag_name('td')\n",
        "  detail_info = [info.text for info in infos]\n",
        "\n",
        "  info_dic = { col:info for col, info in zip(columns, detail_info) }\n",
        "\n",
        "  return info_dic"
      ],
      "execution_count": null,
      "outputs": []
    },
    {
      "cell_type": "markdown",
      "metadata": {
        "id": "WgLO5rDEVD4c"
      },
      "source": [
        "# 국회의원 뉴스 인용문"
      ]
    },
    {
      "cell_type": "code",
      "metadata": {
        "id": "2EG2XxM7h7_W",
        "cellView": "code"
      },
      "source": [
        "def get_news_quote(dir_name, name, wd, news_max=5):\n",
        "\n",
        "  page_no = 0\n",
        "  news_count = 0\n",
        "  news_total = wd.find_element_by_id('newsInQoutTotalCount').text[1:-2]\n",
        "  news_file = open(dir_name + '/' + name + '뉴스 인용문.txt', 'w') #쓰기 모드 파일 생성\n",
        "\n",
        "  while True:\n",
        "    try:\n",
        "      page_no += 1\n",
        "      paging = wd.find_element_by_id('newsInQuotListPaging')\n",
        "      pagination = paging.find_element_by_class_name('pagination')\n",
        "      pagination.find_element_by_link_text(str(page_no)).click()\n",
        "      time.sleep(1)\n",
        "      print(f\"뉴스 인용문 {page_no} 페이지\")\n",
        "      \n",
        "      box_list = wd.find_element_by_id('newsInQuotList')\n",
        "      quotes = box_list.find_elements_by_tag_name('b')\n",
        "      for quote in quotes:\n",
        "        news_file.write(quote.text + '\\n') #파일 쓰기\n",
        "        news_count += 1\n",
        "        print(f\" {news_count}/{news_total} \", [quote.text])\n",
        "\n",
        "        if news_count >= news_max:\n",
        "          break\n",
        "\n",
        "      if news_count >= news_max:\n",
        "          break\n",
        "\n",
        "      next_button = pagination.find_element_by_tag_name('li')[-1]\n",
        "      if next_button.get_attribute('class') == 'disabled':\n",
        "        break\n",
        "\n",
        "      if page_no % 5 == 0:\n",
        "        next_button.find_element_by_tag_name('a').click()\n",
        "        time.sleep(1)\n",
        "\n",
        "    except:\n",
        "      break\n",
        "\n",
        "  news_file.close()"
      ],
      "execution_count": null,
      "outputs": []
    },
    {
      "cell_type": "markdown",
      "metadata": {
        "id": "ZjRLI6FiogYN"
      },
      "source": [
        "## 국회의원 회의록"
      ]
    },
    {
      "cell_type": "code",
      "metadata": {
        "id": "TYyAk1atoiw6"
      },
      "source": [
        "def get_record_quote(dir_name, name, wd, record_max=5):\n",
        "\n",
        "  page_no = 0\n",
        "  record_count = 0\n",
        "  record_total = wd.find_element_by_id('recordTotalCount').text\n",
        "  record_file = open(dir_name + '/' + name + '회의록 인용문.txt', 'w') #쓰기 모드 파일 생성\n",
        "\n",
        "  while True:\n",
        "    try:\n",
        "      page_no += 1\n",
        "      paging = wd.find_element_by_id('recordTableListPaging')\n",
        "      pagination = paging.find_element_by_class_name('pagination')\n",
        "      pagination.find_element_by_link_text(str(page_no)).click()\n",
        "      time.sleep(1)\n",
        "      print(f\"회의록 인용문 {page_no} 페이지\")\n",
        "\n",
        "      record_table = wd.find_element_by_id('recordTableList')\n",
        "      record_list = record_table.find_elements_by_tag_name('a')\n",
        "      for record in record_list:\n",
        "        record.click()\n",
        "        time.sleep(1)\n",
        "\n",
        "        quote_list = wd.find_element_by_id('birefTableList')\n",
        "        quotes = quote_list.find_elements_by_tag_name('td')\n",
        "        for quote in quotes:\n",
        "          record_file.write(quote.text + '\\n') #파일 쓰기\n",
        "\n",
        "        record_count += 1\n",
        "        print(f\" {record_count}/{record_total} \", [quote.text])\n",
        "\n",
        "        if record_count >= record_max:\n",
        "          break\n",
        "\n",
        "      if record_count >= record_max:\n",
        "          break\n",
        "\n",
        "      next_button = pagination.find_element_by_tag_name('li')[-1]\n",
        "      if next_button.get_attribute('class') == 'disabled':\n",
        "        break\n",
        "\n",
        "      if page_no % 5 == 0:\n",
        "        next_button.find_element_by_tag_name('a').click()\n",
        "        time.sleep(1)\n",
        "\n",
        "    except:\n",
        "      break\n",
        "\n",
        "  record_file.close()"
      ],
      "execution_count": null,
      "outputs": []
    },
    {
      "cell_type": "markdown",
      "metadata": {
        "id": "q7CwOyA2fGgj"
      },
      "source": [
        "## `scraping()`: 스크래핑"
      ]
    },
    {
      "cell_type": "code",
      "metadata": {
        "id": "irTU3lmnFE1t"
      },
      "source": [
        "def scraping(dir_name, politician_max=3):\n",
        "  page_no = 0\n",
        "  politician_count = 0\n",
        "  politician_df = pd.DataFrame()\n",
        "\n",
        "  wd = webdriver.Chrome('chromedriver', options=chrome_options)\n",
        "  wd.execute_script('window.open(\"about:blank\", \"_blank\");') #새 창으로 열기\n",
        "  tabs = wd.window_handles #새 창을 탭으로 열기\n",
        "\n",
        "  while True:\n",
        "    try:\n",
        "      page_no += 1\n",
        "      wd.switch_to.window(tabs[0]) #첫 번째 탭에 접근\n",
        "\n",
        "      url = f\"https://www.bigkinds.or.kr/v2/depthAnalysis/assembly.do?page={page_no}\"\n",
        "      wd.get(url)\n",
        "      politician_total = wd.find_element_by_xpath('//*[@id=\"contents\"]/div/div[3]/div/button[1]/span').text[1:-1]\n",
        "      politician_items = wd.find_elements_by_class_name('assembly-item')\n",
        "\n",
        "      if not politician_items:\n",
        "        break\n",
        "      \n",
        "      for item in politician_items:\n",
        "        wd.switch_to.window(tabs[0])\n",
        "\n",
        "        politician_count += 1\n",
        "        print(\"------------------------------------------------------\")\n",
        "        print(f\"국회의원 {politician_count}/{politician_total} 명\")\n",
        "        name = item.find_element_by_class_name('assembly-item__profile__name').text\n",
        "        name = name.split('\\n')[0]\n",
        "        print(name)\n",
        "\n",
        "        deatil_link = item.find_element_by_tag_name('a').get_attribute('href')\n",
        "        wd.switch_to.window(tabs[1]) #두번째 탭에 로드\n",
        "        wd.get(deatil_link)\n",
        "\n",
        "        print(\"[프로필 이미지 다운로드]\")\n",
        "        profile_image = wd.find_element_by_class_name('depAnalProfileImg')\n",
        "        image_src = profile_image.find_element_by_tag_name('img').get_attribute('src')\n",
        "        file_name = dir_name + '/' + name + '.jpg'\n",
        "        print(file_name)\n",
        "        urlretrieve(image_src, file_name) #(소스, 파일명)\n",
        "\n",
        "        print(\"[기본 정보 스크래핑]\")\n",
        "        politician_dic = get_politician_info(dir_name, wd) #함수 호출\n",
        "        print(\"  \", politician_dic)\n",
        "        politician_df = politician_df.append(politician_dic, ignore_index=True)\n",
        "\n",
        "        print(\"[뉴스 인용문 스크래핑]\")\n",
        "        wd.find_element_by_id('depthAnalTab2_1').find_element_by_tag_name('a').click()\n",
        "        get_news_quote(dir_name, name, wd) #함수 호출\n",
        "\n",
        "        print(\"[회의록 인용문 스크래핑]\")\n",
        "        get_record_quote(dir_name, name, wd) #함수 호출\n",
        "\n",
        "        if politician_count >= politician_max:\n",
        "          break\n",
        "        \n",
        "      if politician_count >= politician_max:\n",
        "          break\n",
        "    \n",
        "    except AttributeError as e:\n",
        "      print(e)\n",
        "      break\n",
        "\n",
        "    except NoSuchElementException as e:\n",
        "      print(e)\n",
        "      break\n",
        "\n",
        "  wd.close()\n",
        "\n",
        "  return politician_df"
      ],
      "execution_count": null,
      "outputs": []
    },
    {
      "cell_type": "markdown",
      "metadata": {
        "id": "tL_4cKbHc06R"
      },
      "source": [
        "# 스크래핑 시작"
      ]
    },
    {
      "cell_type": "code",
      "metadata": {
        "id": "BASIDgGzXCAj",
        "colab": {
          "base_uri": "https://localhost:8080/",
          "height": 1000
        },
        "outputId": "f42696ba-bf7d-4a59-c175-eda14d5664c2"
      },
      "source": [
        "dir_name = './politician'\n",
        "if os.path.isdir(dir_name):\n",
        "  shutil.rmtree(dir_name)\n",
        "\n",
        "os.makedirs(dir_name)\n",
        "print(f\"{dir_name} 디렉토리 생성\")\n",
        "\n",
        "politician_df = scraping(dir_name)"
      ],
      "execution_count": null,
      "outputs": [
        {
          "output_type": "stream",
          "text": [
            "./politician 디렉토리 생성\n",
            "------------------------------------------------------\n",
            "국회의원 1/301 명\n",
            "강기윤 (姜起潤)\n",
            "[프로필 이미지 다운로드]\n",
            "./politician/강기윤 (姜起潤).jpg\n",
            "[기본 정보 스크래핑]\n",
            "   {'이름': '강기윤(姜起潤)', '이름(영문)': 'KANG GIYUN', '출생일': '1960-06-04', '정당': '미래통합당', '지역구': '경남 창원시성산구', '소속위원회': '보건복지위원회', '당선기록': '재선(19대, 21대)', '사무실전화': '02-784-1751', '홈페이지': 'http://blog.naver.com/ggotop', '이메일': 'ggotop@naver.com', '보좌관': '강종길 , 김홍광', '경력': '[학력] 마산공고(26회) 창원대학교 행정학과 중앙대학교 행정대학원 지방의회과 석사 창원대학교 대학원 행정학 박사 [경력] 보건복지위원회 위원 미래통합당 소상공인살리기 특별위원회 부위원장 미래통합당 경남도당 민생특위 위원장 제19대 국회의원 (새누리당/경남 창원시 성산구) 새누리당 원내부대표'}\n",
            "[뉴스 인용문 스크래핑]\n",
            "뉴스 인용문 1 페이지\n",
            " 1/54  ['문재인 케어로 남발했던 건강보험기금이 고갈돼 정부가 건강보험료를 인상하려 하고 있는데, 경제적 위기로 국민들이 고통받고 있는 상황에서 시기가 적절하지 않다']\n",
            " 2/54  ['잠복기가 5일 정도라는데, 광화문 집회 직후 확진자가 발생했으면 10일 이전에 코로나19 감염이 됐다는 의미 아닌가 그것을 마냥 광화문 집회가 확진자를 양산하는 주범이라는 쪽으로 혹세무민해서는 안 된다']\n",
            " 3/54  ['의협이 지금 당장 업무에 복귀해서 모든 국민이 걱정하는 코로나 방역에 최선을 다해줄 것을 간곡히 요청한다 지금 당장 보건복지부 차관이 의협에 지금은 일단 코로나 방역에 힘을 쏟자는 메시지를 당장 내달라']\n",
            " 4/54  ['아나볼릭 스테로이드의 부작용의 위험성과 현재 오남용이 심각한 만큼 이에 대한 관리체계를 강화할 필요성이 있다']\n",
            " 5/54  ['광화문 집회를 두고 여야가 정쟁을 걸어선 안 된다. 광화문 집회가 확진자 양상의 주범이라고 혹세무민해서는 안 된다']\n",
            "[회의록 인용문 스크래핑]\n",
            "회의록 인용문 1 페이지\n",
            " 1/127  ['장관님 말씀, 전남대하고, 전남의대나 광주에 있는 건 맞습니다. 그런데 광주가한 170만 되고 그다음에 전남이 한 180만 됩니다. 제가 만약에 예를 들면 울산이 광역시로 떨어지기 전에는 경남에 포함돼 있었습니다. 제가 만약에 울산까지 포함하면 이 인구가 엄청나게 많습니다. 제가 그런 말씀 안 드린 이유는, 광주가전남 안의 한복판에 있지 않습니까, 한 중앙에?그렇잖아요. 경남으로 보면 울산도 있는데요, 그게 광역시로 떨어져서 제가 포함을 안 시켰어요.그 인구를 포함하면 한 450만이 됩니다. 450만이되는데 의대가 하나밖에 없는 거거든요. 그래서그렇게 생각하면 경상이 더 열악해질 수도 있다이런 생각입니다. 참고를 해 주시기 바랍니다.']\n",
            " 2/127  ['위원장님이 아주 판사네, 판사.']\n",
            " 3/127  ['이 내용은 오전부터 위원님들이 각자 스터디를 좀 하고 또 여러 가지 의견도 구하면서 아마 정부 측 의견에 동의를 많이하고 있는 것 같습니다. 그래서 이 부분은 여러 가지 형평성 문제도 있고 헌재에서 기각을, 본인들이 또 헌재의 결정을질문하고 했는데 헌재에서도 이 부분은 기각 처리한 것이기 때문에 법률적으로도 여러 가지 문제가 있는 것으로 파악되고 있습니다. 또한 이것이 형평성 문제도 또다시 초래할 수있고 이래서 더 큰 문제를, 처음에는 열다섯 분에 국한하는 걸로 봤는데 그렇지 않고 지급 대상자만 해도 사백몇십 명이고, 또 그걸로 인해서파생될 수 있는 여러 가지 부작용이 많이 우려되는 것을 우리 위원들이 걱정하고 있는 것 같아요. 위원님, 그래서 이것은 계속 심사하는 걸로 그렇게 정리할까요? (｢예｣ 하는 위원 있음) 자, 그러면 이 부분은 계속적으로 심사하는 걸로 그렇게 정리하도록 하겠습니다. 수고하셨습니다.']\n",
            " 4/127  ['수고 많았습니다. 다음은 경찰청장님!']\n",
            " 5/127  ['과거사에서 한 내용을 정부에다 강력히 권고를 한 겁니다.']\n",
            "------------------------------------------------------\n",
            "국회의원 2/301 명\n",
            "강대식 (姜大植)\n",
            "[프로필 이미지 다운로드]\n",
            "./politician/강대식 (姜大植).jpg\n",
            "[기본 정보 스크래핑]\n",
            "   {'이름': '강대식(姜大植)', '이름(영문)': 'KANG DAESIK', '출생일': '1959-11-02', '정당': '미래통합당', '지역구': '대구 동구을', '소속위원회': '국방위원회', '당선기록': '초선(21대)', '사무실전화': '', '홈페이지': '', '이메일': '', '보좌관': '박홍규 , 정운태', '경력': ''}\n",
            "[뉴스 인용문 스크래핑]\n",
            "뉴스 인용문 1 페이지\n",
            " 1/40  ['금호강을 횡단하는 이시아폴리스 진입도로 교량 건설이 예정돼 있는데 엑스코선 교량을 따로 짓지 말고 여기에 함께 놓으면 경제성이 대폭 향상된다 또 이시아폴리스 인근 연경지구 개발로 이용수요가 더욱 증가할 것']\n",
            " 2/40  [\"통합신공항 이전 16단계 중 9단계가 끝났다. 제일 우려한 부분이 11단계로 '사업자 선정' 문제다. 사업자가 빨리 선정되면 사업이 순조로울 것\"]\n",
            " 3/40  ['공기업이든 민간기업이든 컨소시엄 형태가 될 텐데 중요한 점은 어느 쪽이 됐든 누가 이득 없는 사업을 맡겠느냐 것이다. 경제성이 있어야 투자를 할 것 현행법으로는 민간에서 투자가 이루어질지 우려스러운 부분이 있어 유인책이든 무엇이든 방안을 모색해야 할 것']\n",
            " 4/40  ['자칫하면 대형참사가 났을 수 있지만, 양측 인명 피해가 없어 천만다행한 일']\n",
            " 5/40  ['자칫하면 대형참사가 났을 수 있지만, 양측 인명 피해가 없어 천만다행한 일 특히, 잠수함의 경우 부상상태 항해시 충돌에 매우 취약하기 때문에 더더욱 사고예방을 위해 배와 교신, 항로 이탈시 기적소리 발송, 안전속력 준수, 충돌회피를 위한 동작 등을 철저히 해야 한다 해군은 충돌사고시 큰 인명피해가 있을 뿐 아니라 전력공백이 발생하기 때문에 해상수칙만 지..']\n",
            "[회의록 인용문 스크래핑]\n",
            "회의록 인용문 1 페이지\n",
            " 1/3  ['이런 부분에는 좀 확실히 말씀을 해 주시는 게 저는 좋다고 생각이 됩니다. 이상입니다.']\n",
            " 2/3  ['반갑습니다. 대구 동구을 강대식 위원입니다. 존경하는 위원장님, 그리고 경험이 많으신 우리 위원님들과 최선을 다해서 열심히 노력하도록 하겠습니다. 감사합니다.']\n",
            " 3/3  ['해당 인용문이 존재하지 않습니다.']\n",
            "------------------------------------------------------\n",
            "국회의원 3/301 명\n",
            "강득구 (姜得求)\n",
            "[프로필 이미지 다운로드]\n",
            "./politician/강득구 (姜得求).jpg\n",
            "[기본 정보 스크래핑]\n",
            "   {'이름': '강득구(姜得求)', '이름(영문)': 'KANG DEUKGU', '출생일': '1963-05-27', '정당': '더불어민주당', '지역구': '경기 안양시만안구', '소속위원회': '교육위원회', '당선기록': '초선(21대)', '사무실전화': '02-784-2747~9', '홈페이지': 'https://blog.naver.com/dulipapa', '이메일': 'mainsail440@daum.net', '보좌관': '유진우', '경력': '2018. 10. ~ 2019. 5. 민주연구원 자치발전연구센터 본부장 2016. 10. ~ 2018. 3. 경기도 연정부지사 2014. 7. ~ 2016. 1. 경기도의회 의장 2010. 7. ~ 2014. 6. 경기도의회 의원(2013. 7. ~ 2014. 6. 민주당 대표) 1998. 7. ~ 2002. 6. 경기도의회 의원'}\n",
            "[뉴스 인용문 스크래핑]\n",
            "뉴스 인용문 1 페이지\n",
            " 1/11  ['도심 속에서 시민들에게 자연 체험의 장을 제공하고 시민들과 자연이 함께 어우러져 살 수 있는 하천문화를 형성할 수 있기를 기대한다 앞으로도 주민들의 목소리에 귀 기울이며 주민들의 삶에 필요한 예산 확보에 최선을 다하겠다']\n",
            " 2/11  ['정부의 주거중심 주택정책 방향에 찬성한다. 다만 촘촘한 정책으로 선의의 피해자가 발생하지 않도록 정책의 일관성과 형평성을 중심에 놓고 정부정책을 펴나가야 한다 앞으로도 주민들과 꾸준히 소통하며 주민들의 권익을 지키고 불편을 최소화하겠다']\n",
            " 3/11  ['코로나19로 원격교육 수요가 증가하면서 K-MOOC 수요도 함께 크게 증가하고 있다. 위기를 기회로 삼아 K-MOOC를 국민에게 더 적극적으로 알릴 수 있는 계기가 되기를 바란다 지난해 말 기준 K-MOOC 이용자 중 20대 이하는 63.6%(31만9천177명)을 차지한 데 비해 60대 이상은 3.1%(1만5천492명)에 불과했다 국가평생교육진흥원이 평..']\n",
            " 4/11  ['오는 24일 국회도서관 대강당에서 열리는 도서관문화발전 국회포럼 출범식 및 토론회를 시작으로 여야 의원들이 함께 도서관 발전을 위한 입법 활동에 나설 것 현대 사회는 지식과 정보가 더욱 중요해지고 있고 상상과 창의가 사회 모든 부문의 중심에 자리잡을 것 더불어 살아가는 공동체 구성원으로서의 시민의 힘이 중요한데 시민의 자유롭고 주체적인 활동 기반이 바로..']\n",
            " 5/11  ['최근 안양시의회 의장 선거와 관련한 상황들은 안양시의회 전체의 명예와 품격을 실추시키고, 안양시민들의 자존심마저 훼손시켰다 시대에 맞지 않는 구태 정치로, 진작에 폐기됐어야 할 모습들이다 의회는 시민의 대표기능, 입법기능, 행정기관에 대한 견제와 감시기능을 수행하는 기관으로, 시의원은 그 직무를 수행함에 있어 민주주의를 수호하고 위임한 국민(시민)의 권..']\n",
            "[회의록 인용문 스크래핑]\n",
            "회의록 인용문 1 페이지\n",
            " 1/3  ['이상입니다.']\n",
            " 2/3  ['한 몇 % 정도 들어갑니까, BTL 재정 부담?']\n",
            " 3/3  ['해당 인용문이 존재하지 않습니다.']\n"
          ],
          "name": "stdout"
        }
      ]
    },
    {
      "cell_type": "markdown",
      "metadata": {
        "id": "4B6-AQX_zJXJ"
      },
      "source": [
        "## 스크래핑 확인"
      ]
    },
    {
      "cell_type": "code",
      "metadata": {
        "id": "r0eXGUU-0Nib",
        "colab": {
          "base_uri": "https://localhost:8080/",
          "height": 383
        },
        "outputId": "bbd0b6bd-9ca3-4335-9e69-e8f6878e273b"
      },
      "source": [
        "politician_df"
      ],
      "execution_count": null,
      "outputs": [
        {
          "output_type": "execute_result",
          "data": {
            "text/html": [
              "<div>\n",
              "<style scoped>\n",
              "    .dataframe tbody tr th:only-of-type {\n",
              "        vertical-align: middle;\n",
              "    }\n",
              "\n",
              "    .dataframe tbody tr th {\n",
              "        vertical-align: top;\n",
              "    }\n",
              "\n",
              "    .dataframe thead th {\n",
              "        text-align: right;\n",
              "    }\n",
              "</style>\n",
              "<table border=\"1\" class=\"dataframe\">\n",
              "  <thead>\n",
              "    <tr style=\"text-align: right;\">\n",
              "      <th></th>\n",
              "      <th>경력</th>\n",
              "      <th>당선기록</th>\n",
              "      <th>보좌관</th>\n",
              "      <th>사무실전화</th>\n",
              "      <th>소속위원회</th>\n",
              "      <th>이름</th>\n",
              "      <th>이름(영문)</th>\n",
              "      <th>이메일</th>\n",
              "      <th>정당</th>\n",
              "      <th>지역구</th>\n",
              "      <th>출생일</th>\n",
              "      <th>홈페이지</th>\n",
              "    </tr>\n",
              "  </thead>\n",
              "  <tbody>\n",
              "    <tr>\n",
              "      <th>0</th>\n",
              "      <td>[학력] 마산공고(26회) 창원대학교 행정학과 중앙대학교 행정대학원 지방의회과 석사...</td>\n",
              "      <td>재선(19대, 21대)</td>\n",
              "      <td>강종길 , 김홍광</td>\n",
              "      <td>02-784-1751</td>\n",
              "      <td>보건복지위원회</td>\n",
              "      <td>강기윤(姜起潤)</td>\n",
              "      <td>KANG GIYUN</td>\n",
              "      <td>ggotop@naver.com</td>\n",
              "      <td>미래통합당</td>\n",
              "      <td>경남 창원시성산구</td>\n",
              "      <td>1960-06-04</td>\n",
              "      <td>http://blog.naver.com/ggotop</td>\n",
              "    </tr>\n",
              "    <tr>\n",
              "      <th>1</th>\n",
              "      <td></td>\n",
              "      <td>초선(21대)</td>\n",
              "      <td>박홍규 , 정운태</td>\n",
              "      <td></td>\n",
              "      <td>국방위원회</td>\n",
              "      <td>강대식(姜大植)</td>\n",
              "      <td>KANG DAESIK</td>\n",
              "      <td></td>\n",
              "      <td>미래통합당</td>\n",
              "      <td>대구 동구을</td>\n",
              "      <td>1959-11-02</td>\n",
              "      <td></td>\n",
              "    </tr>\n",
              "    <tr>\n",
              "      <th>2</th>\n",
              "      <td>2018. 10. ~ 2019. 5. 민주연구원 자치발전연구센터 본부장 2016. ...</td>\n",
              "      <td>초선(21대)</td>\n",
              "      <td>유진우</td>\n",
              "      <td>02-784-2747~9</td>\n",
              "      <td>교육위원회</td>\n",
              "      <td>강득구(姜得求)</td>\n",
              "      <td>KANG DEUKGU</td>\n",
              "      <td>mainsail440@daum.net</td>\n",
              "      <td>더불어민주당</td>\n",
              "      <td>경기 안양시만안구</td>\n",
              "      <td>1963-05-27</td>\n",
              "      <td>https://blog.naver.com/dulipapa</td>\n",
              "    </tr>\n",
              "  </tbody>\n",
              "</table>\n",
              "</div>"
            ],
            "text/plain": [
              "                                                  경력  ...                             홈페이지\n",
              "0  [학력] 마산공고(26회) 창원대학교 행정학과 중앙대학교 행정대학원 지방의회과 석사...  ...     http://blog.naver.com/ggotop\n",
              "1                                                     ...                                 \n",
              "2  2018. 10. ~ 2019. 5. 민주연구원 자치발전연구센터 본부장 2016. ...  ...  https://blog.naver.com/dulipapa\n",
              "\n",
              "[3 rows x 12 columns]"
            ]
          },
          "metadata": {
            "tags": []
          },
          "execution_count": 25
        }
      ]
    },
    {
      "cell_type": "code",
      "metadata": {
        "id": "DMt0P9qDqLA7",
        "colab": {
          "base_uri": "https://localhost:8080/",
          "height": 111
        },
        "outputId": "971c3c02-342b-48cd-d9b2-a1eecff604a6"
      },
      "source": [
        "!ls politician/"
      ],
      "execution_count": null,
      "outputs": [
        {
          "output_type": "stream",
          "text": [
            "'강대식 (姜大植).jpg'\t\t    '강득구 (姜得求)회의록 인용문.txt'\n",
            "'강대식 (姜大植)뉴스 인용문.txt'    '강기윤 (姜起潤).jpg'\n",
            "'강대식 (姜大植)회의록 인용문.txt'  '강기윤 (姜起潤)뉴스 인용문.txt'\n",
            "'강득구 (姜得求).jpg'\t\t    '강기윤 (姜起潤)회의록 인용문.txt'\n",
            "'강득구 (姜得求)뉴스 인용문.txt'\n"
          ],
          "name": "stdout"
        }
      ]
    },
    {
      "cell_type": "code",
      "metadata": {
        "id": "PLwRM4HpzNkc",
        "colab": {
          "base_uri": "https://localhost:8080/",
          "height": 17
        },
        "outputId": "4dfab2ca-1b7d-4a2e-8fca-f9aea5743102"
      },
      "source": [
        "from google.colab import files\n",
        "files.download('./politician/강대식 (姜大植).jpg')"
      ],
      "execution_count": null,
      "outputs": [
        {
          "output_type": "display_data",
          "data": {
            "application/javascript": [
              "\n",
              "    async function download(id, filename, size) {\n",
              "      if (!google.colab.kernel.accessAllowed) {\n",
              "        return;\n",
              "      }\n",
              "      const div = document.createElement('div');\n",
              "      const label = document.createElement('label');\n",
              "      label.textContent = `Downloading \"${filename}\": `;\n",
              "      div.appendChild(label);\n",
              "      const progress = document.createElement('progress');\n",
              "      progress.max = size;\n",
              "      div.appendChild(progress);\n",
              "      document.body.appendChild(div);\n",
              "\n",
              "      const buffers = [];\n",
              "      let downloaded = 0;\n",
              "\n",
              "      const channel = await google.colab.kernel.comms.open(id);\n",
              "      // Send a message to notify the kernel that we're ready.\n",
              "      channel.send({})\n",
              "\n",
              "      for await (const message of channel.messages) {\n",
              "        // Send a message to notify the kernel that we're ready.\n",
              "        channel.send({})\n",
              "        if (message.buffers) {\n",
              "          for (const buffer of message.buffers) {\n",
              "            buffers.push(buffer);\n",
              "            downloaded += buffer.byteLength;\n",
              "            progress.value = downloaded;\n",
              "          }\n",
              "        }\n",
              "      }\n",
              "      const blob = new Blob(buffers, {type: 'application/binary'});\n",
              "      const a = document.createElement('a');\n",
              "      a.href = window.URL.createObjectURL(blob);\n",
              "      a.download = filename;\n",
              "      div.appendChild(a);\n",
              "      a.click();\n",
              "      div.remove();\n",
              "    }\n",
              "  "
            ],
            "text/plain": [
              "<IPython.core.display.Javascript object>"
            ]
          },
          "metadata": {
            "tags": []
          }
        },
        {
          "output_type": "display_data",
          "data": {
            "application/javascript": [
              "download(\"download_b8deb788-4032-439e-bb07-04cf95c229a8\", \"\\uac15\\ub300\\uc2dd (\\u59dc\\u5927\\u690d).jpg\", 31390)"
            ],
            "text/plain": [
              "<IPython.core.display.Javascript object>"
            ]
          },
          "metadata": {
            "tags": []
          }
        }
      ]
    },
    {
      "cell_type": "code",
      "metadata": {
        "id": "-NXQjI5Q1PNb",
        "colab": {
          "base_uri": "https://localhost:8080/",
          "height": 131
        },
        "outputId": "d6332869-1b85-4e23-aeb6-ce7d52448eab"
      },
      "source": [
        "!cat './politician/강대식 (姜大植)뉴스 인용문.txt'"
      ],
      "execution_count": null,
      "outputs": [
        {
          "output_type": "stream",
          "text": [
            "금호강을 횡단하는 이시아폴리스 진입도로 교량 건설이 예정돼 있는데 엑스코선 교량을 따로 짓지 말고 여기에 함께 놓으면 경제성이 대폭 향상된다 또 이시아폴리스 인근 연경지구 개발로 이용수요가 더욱 증가할 것\n",
            "통합신공항 이전 16단계 중 9단계가 끝났다. 제일 우려한 부분이 11단계로 '사업자 선정' 문제다. 사업자가 빨리 선정되면 사업이 순조로울 것\n",
            "공기업이든 민간기업이든 컨소시엄 형태가 될 텐데 중요한 점은 어느 쪽이 됐든 누가 이득 없는 사업을 맡겠느냐 것이다. 경제성이 있어야 투자를 할 것 현행법으로는 민간에서 투자가 이루어질지 우려스러운 부분이 있어 유인책이든 무엇이든 방안을 모색해야 할 것\n",
            "자칫하면 대형참사가 났을 수 있지만, 양측 인명 피해가 없어 천만다행한 일\n",
            "자칫하면 대형참사가 났을 수 있지만, 양측 인명 피해가 없어 천만다행한 일 특히, 잠수함의 경우 부상상태 항해시 충돌에 매우 취약하기 때문에 더더욱 사고예방을 위해 배와 교신, 항로 이탈시 기적소리 발송, 안전속력 준수, 충돌회피를 위한 동작 등을 철저히 해야 한다 해군은 충돌사고시 큰 인명피해가 있을 뿐 아니라 전력공백이 발생하기 때문에 해상수칙만 지..\n"
          ],
          "name": "stdout"
        }
      ]
    },
    {
      "cell_type": "code",
      "metadata": {
        "id": "8XKD_Jw9E_qF",
        "colab": {
          "base_uri": "https://localhost:8080/",
          "height": 803
        },
        "outputId": "75e3cce5-9aa4-41b1-b157-7c3111fcea20"
      },
      "source": [
        "!cat './politician/강대식 (姜大植)회의록 인용문.txt'"
      ],
      "execution_count": null,
      "outputs": [
        {
          "output_type": "stream",
          "text": [
            "\n",
            "그렇지 않지요? 그런데 7월 6일 자에 보면 정세현 민주평통자문회의 수석부의장께서 김어준의 뉴스공장에 출연해 가지고 9․19 군사합의 이후 실시한 한미연합훈련에 대해서 군사합의 위반이라고 이렇게 주장을 했는데 여기에 대해서 장관께서 어떻게 생각하십니까?\n",
            "\n",
            "허위사실에 대해서 이야기를 할 때에는 국방부에서의 명확한 답변을 내놔야 된다고 저는 그렇게 보고 있거든요. 우리 국민들이 봤을 때 호도되지 않고 정말 정확한 팩트 있는 그런 사실들을 우리 국민이 알 수 있게끔 이렇게 국방부에서 해 줘야 된다고 생각하는데 장관님 어떻게 생각하세요?\n",
            "\n",
            "수석부의장은 대통령의 어떤 명을 받아서 이렇게 하는 아주 중요한 위치에 계시는 분이 이런 허위사실에 대해서…… (발언시간 초과로 마이크 중단) 1분만 더 주십시오.\n",
            "\n",
            "또 한 가지 물어보겠습니다. 한미연합훈련이 9․19 합의에 위반됩니까?\n",
            "\n",
            "예, 됐습니다. 됐습니다.\n",
            "\n",
            "예, 무슨 말씀인지 알겠습니다. 이게 꼭히 통합신공항이 510만 대구․경북민들의 염원이 담긴 사업이다 이렇게는 제가 말씀을안 드리겠습니다. 왜냐하면 생각하기도 싫지만이 사업이 만약에 좌초된다고 봤을 때는 대구․경북을 넘어서서 예측하기 힘든 정치적 갈등의소용돌이 속에 빠질 수 있다 이런 생각을 한번해 보고요. 주무부처로서 책임감을 가지고 며칠 남지는 않았지만 그동안 수십 년간 소음 피해로 인해서 또고도 제한으로 인해서 재산권 침해로 인해서 고통받은 대구시민들의 희생을 헤아려서 마지막까지 군위군을 설득하는 데 최선을 다해 줄 수 있겠습니까?\n",
            "\n",
            "그런데 아직까지 군위군은 그럴 마음이 전연 없고요. 언론에 보면 장관님이 내일 일정으로 군위군수하고 면담이 있는 걸로 알고 있는데 혹시 설득을 할 수 있는 대안을 갖고 계십니까?\n",
            "\n",
            "장관님, 조금 전에 질의했던 내용과 연결하겠습니다. 군위군이 진짜로 유치하면 제일 클리어합니다, 그렇지요?\n",
            "\n",
            "뭐 조금만이라도 그런……\n",
            "\n",
            "방위력개선비 중 약 한 9200억 원이 삭감된 이후에 2021년 예산편성에서 감액된 사업 예산을 재배정받고 정상적인 사업예산을 추가로 받기가 쉽지 않을 겁니다, 아마. 청장님은 이 점 각별히 유념해서 전력화 시기가 늦지 않도록 최선을 다해 주시기 바랍니다.\n",
            "\n",
            "국방부장관님께 질문드리겠습니다. 7월 3일 이전 부지, 업무보고 21쪽에 보면 군 공항 이전 문제입니다. 7월 3일 이전부지 선정위원회 의결에 따라 3일 후인 31일에 사업의 추진 여부가 결정됩니다. 장관님, 이 시점에서 가장 중요한 것이 뭐라고생각하십니까?\n",
            "\n",
            "다음에 추가질의 때 하겠습니다.\n",
            "\n",
            "대구 동구을 강대식 위원입니다. 국방부장관님을 비롯한 군 수뇌부에 대한민국국민의 한 사람으로 또 국민을 대표하는 국회의원으로서 당부의 말씀을 드리겠습니다. 국방부 업무보고 자료를 꼼꼼하게 한번 읽어봤습니다. 첫 보고라서 기본부터 상세하게 작성을 하셨던데 제 가슴에 가장 와닿는 문구는 국군의 임무였습니다. 최근 연일 보도되는 언론 내용을 보면서 대한민국 국군은 과연 국가의 안전을 보장하고 또 국토를 방위하며 국민의 생명을 지킬 능력이 있는가라는 의문을 제 자신에게 되물어 봤습니다. 장관님 좀 불편하시더라도 들어 주시기 바라겠습니다. 장관님께서 작년에 북한 소형 목선 삼척항 입항의 경계작전 실패에 대해서 국민들께 고개를숙인 적이 있습니다. 국방부는 그 상황의 엄중함을 인식해서 그해 7월에 주요 지휘관 워크숍을개최를 했고 경계작전 시스템 최적화 또 감시전력 보강, 감시장비 운용요원 보강, 작전 여건 개선 등을 추진하였습니다. 또 올 3월에도 지휘관회의를 개최해서 대책을 세운 바가 있습니다. 이러한 노력에도 불구하고 지난주까지 우리 군은 여러 번의 작전과 경계 실패 등 기강에 구멍이 많이 뚫리고 있습니다. 주요 군 기지와 해안선은 연달아 민간인과 밀입국 선박의 침입을 허용했고 국민이 한강을 헤엄쳐 월북이 추정되는데도 우리 군은 북한 방송에 보도된 후에 이러한사실을 인지했다고 합니다. 상상만으로도 아찔한순간이 아니겠습니까? 이렇게 허술한 군사 대비 태세에 적군의 간첩이 우리 국토에 침투해서 첩보활동 등 마음껏 활보하다가 탈출하지 않았다고 누가 확신할 수 있겠습니까? 이뿐만이 아닙니다. 경계병은 총과 방탄헬멧을 버리고 근무지를 이탈하고 주요 간부는 지휘통제실에서 몰래 도청장치를 설치했고 한 장교는 만취해서 나체 상태로 시내 한복판에서 자다가 경찰에 연행되기도 했습니다. 최전방 해역인 서북도서와 북방한계선을 지켜야 하는 신형 고속정은 엔진 고장으로 작전에 투입되지도 못하고 있는 상황입니다. 적군이 아군을 향해 총격을 가하는 일촉즉발의 상황에도 대응사격을 제대로 하지 못하는 그런 실정입니다. 또 병사들은 어떻습니까? 부대에서 휴대폰으로 음란물을 돌려 보거나 억대 도박을 했습니다. 하극상과 성추행은 말할 것도 없고 사회적 물의를 빚은 n번방 사건, 이태원 클럽발 코로나 재확산의 중심에도 우리 군이, 군인이 있었습니다. 제가 국방부에 요청하여서 최근 3년 동안 예하 부대에 하달한 군 기강 관련 공문을 받아 보았습니다. 가장 많이 등장하는 단어가 음주 자제, 군인 기본자세 확립, 대민 물의 사고 및 성 관련 사고 예방 등이었습니다. 경찰청에서 군에 이첩한 사건 건수를 보더라도 음주운전, 성범죄, 경제범죄 등의 비율이 매우 높았습니다. 국민세금 50조 원을 넘게 집행하는 대한민국 60만 대군이 왜 이토록 처참하게 무너지고 있는지 모르겠습니다. 우리 국민들은 만신창이 국군을 어떻게 믿고 그들의 생명을 맡기고 편안하게 밤잠을 잘 수가 있겠습니까? 조선시대 이순신 장군께서는 ‘소유위령 즉당군율’이라고 조금이라도 군령을 어기면 즉각 군법으로 다스리겠다는 엄격한 리더십으로 훈련된 조선 수군을 이끌어서 실전에서 백전백승에 가까운 신화를 만든 적도 있습니다. 장관님, 튼튼한 안보는 한마디 말로 하루아침에 이루어지는 것은 아니라고 생각됩니다. 북한은 2018년 남북 정상회담 이후에도 미사일 발사 실험을 멈추지 않고 있고 양 정상이 합의하여 설치한 남북공동연락사무소도 서슴지 않고 폭파했으며 핵탄두 보유는 갈수록 늘어난다는 해외 유수 연구기관의 발표도 있었습니다. 2020년 우리의 안보환경이 과거보다 더 좋아졌다고 말할 수 있는 상황은 아닌 것 같습니다. 군인은 개인이기에 앞서 국민의 생명과 국가의 생존을 보장해야 하는 신성한 임무를 부여받은 존재라는 사실을 잊어서는 안 되겠습니다. 장관님, 장관이라는 직책은 국군통수권자인 대통령의 명을 받아 대한민국 국방을 관장하는 책임 있는 자리입니다. 대한민국 군대가 국민의 신뢰를 회복하고 우리 군인들이 다시 존경받기 위해서는 현재 군이 가지고 있는 근본적인 문제가무엇이고 앞으로 어떤 길을 걸어가야 하는지 진지하게 생각해 보시기 바랍니다. 저 또한 국방위원으로 믿음직한 강군 건설에 최선을 다하겠습니다.\n",
            "\n",
            "다음 시간에 할게요.\n",
            "\n",
            "어쨌든 간에 불과 한 4개월여 만에 절반 이상이 삭감되었다 하는 그 자체에서는 예산편성 자체도 오류가 있지 않았나 본 위원은 그렇게 생각을 하고요. 2020년 방위사업청 방위력개선비 예산, 특히 핵․WMD 대응체계 구축 및 전작권 전환 여건 보장을 위한 전력확보 예산도 삭감이 되었습니다. 예를 들면 F-35A 획득사업에서 2864억 원, 광개토-Ⅲ Batch-Ⅱ 사업에서 1348억 원이 삭감됐습니다. 그러나 지금 검토해 보면 두 사업 모두 정상 추진될 가능성도 있어 전력화 시기가 지연될 가능성이 있다고 생각됩니다. 청장님 생각은 어떻습니까?\n",
            "\n",
            "방사청장께 질문하겠습니다. 정부는 코로나19 사태 대응을 위해서 방위사업청 방위력개선비에서 2차 추경 7633억 원을 삭감하고 3차 추경에서 또 1536억 원 삭감, 총 9169억 원을 삭감했습니다. 이는 무려 방위력개선비본예산의 약 5.5%에 달하는 금액입니다. 이렇게많은 금액이 삭감이 돼도 문제는 없습니까?\n",
            "\n",
            "2차, 3차 추경에서 15개 사업 중에서 코로나로 인한 것을 제외하고 여건 변화로인한 사업이 약 한 7개, 즉 절반 정도가 여건 변화로 삭감이 된 것 같더라고요. 그러면 코로나19와 상관없는 사업이 삭감되었는데 방위사업청 예산편성이 6개월도 예측하지 못한 졸속 예산편성이었습니까?\n",
            "\n",
            "특히 보면 2020년도에 본예산을편성하고 불과 4개월 만에 해상작전헬기 73%,GPS유도폭탄 4차 79%, 항공관제레이더 58%, 절반 이상이 다 삭감되었습니다.\n",
            "\n",
            "이런 부분에는 좀 확실히 말씀을 해 주시는 게 저는 좋다고 생각이 됩니다. 이상입니다.\n",
            "\n",
            "반갑습니다. 대구 동구을 강대식 위원입니다. 존경하는 위원장님, 그리고 경험이 많으신 우리 위원님들과 최선을 다해서 열심히 노력하도록 하겠습니다. 감사합니다.\n",
            "해당 인용문이 존재하지 않습니다.\n"
          ],
          "name": "stdout"
        }
      ]
    }
  ]
}