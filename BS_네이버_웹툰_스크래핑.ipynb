{
  "nbformat": 4,
  "nbformat_minor": 0,
  "metadata": {
    "colab": {
      "name": "과제5_BeautifulSoup을 이용한 네이버 웹툰 스크래핑.ipynb",
      "provenance": [],
      "collapsed_sections": []
    },
    "kernelspec": {
      "name": "python3",
      "display_name": "Python 3"
    }
  },
  "cells": [
    {
      "cell_type": "markdown",
      "metadata": {
        "id": "VbNf8C-EiqpE"
      },
      "source": [
        "# BeautifulSoup을 이용한 네이버 웹툰 스크래핑"
      ]
    },
    {
      "cell_type": "markdown",
      "metadata": {
        "id": "LxnpmoQsjGC_"
      },
      "source": [
        "## 네이버 웹툰 스크래핑 함수 정의"
      ]
    },
    {
      "cell_type": "code",
      "metadata": {
        "id": "4IZXzsKvKw9M"
      },
      "source": [
        "from bs4 import BeautifulSoup\n",
        "import urllib.request\n",
        "from urllib.parse import quote\n",
        "import pandas as pd\n",
        "\n",
        "def get_webtoons():\n",
        "\n",
        "  url = \"https://comic.naver.com/webtoon/weekday.nhn\"\n",
        "  webtoon_df = pd.DataFrame(columns=(\"Weekday\", \"Title\", \"Author\", \"Story\", \"Genre\", \"Age\", \"Webtoon URL\"))\n",
        "  idx = 0\n",
        "\n",
        "  webtoon_page = urllib.request.urlopen(url).read()\n",
        "  soup = BeautifulSoup(webtoon_page, 'html.parser')\n",
        "  weekdays = soup.find_all('div', {'class':'col'})\n",
        "\n",
        "  for weekday in weekdays:\n",
        "    webtoons = weekday.find_all('li')\n",
        "    day = weekday.find('h4').get_text()\n",
        "    print('\\nweekday')\n",
        "\n",
        "    for webtoon in webtoons:\n",
        "      title = webtoon.find('a', {'class':'title'}).get_text()\n",
        "      webtoon_url = \"https://comic.naver.com\" + webtoon.find('a', {'class':'title'}).get('href')\n",
        "      webtoon_link = urllib.request.urlopen(webtoon_url).read()\n",
        "      webtoon_html = BeautifulSoup(webtoon_link, 'html.parser')\n",
        "      info = webtoon_html.find('div', {'class':'detail'})\n",
        "\n",
        "      author = info.find('span', {'class':'wrt_nm'}).get_text()\n",
        "      author = author.replace(\"\\n\", \"\")\n",
        "      author = author.replace(\"\\t\", \"\")\n",
        "\n",
        "      story = info.find('p').get_text()\n",
        "      story = story.replace(\"\\n\", \"\")\n",
        "      story = story.replace(\"\\t\", \"\")\n",
        "\n",
        "      genre = info.find('span', {'class':'genre'}).get_text()\n",
        "      age = info.find('span', {'class':'age'}).get_text()\n",
        "\n",
        "      webtoon_df.loc[idx] = [day, title, author, story, genre, age, webtoon_url]\n",
        "      idx += 1\n",
        "      print('#', end=\"\")\n",
        "\n",
        "  return webtoon_df"
      ],
      "execution_count": null,
      "outputs": []
    },
    {
      "cell_type": "markdown",
      "metadata": {
        "id": "fo6DcGN1jBpk"
      },
      "source": [
        "## 네이버 웹툰 스크래핑 실행"
      ]
    },
    {
      "cell_type": "code",
      "metadata": {
        "id": "wP2DSWN-gZd3",
        "colab": {
          "base_uri": "https://localhost:8080/",
          "height": 316
        },
        "outputId": "f072e12a-2583-4482-8d69-d6bf41eb7301"
      },
      "source": [
        "webtoon_df = get_webtoons()\n",
        "print('\\nDone')"
      ],
      "execution_count": null,
      "outputs": [
        {
          "output_type": "stream",
          "text": [
            "\n",
            "weekday\n",
            "##################################################\n",
            "weekday\n",
            "#####################################################\n",
            "weekday\n",
            "######################################################\n",
            "weekday\n",
            "################################################\n",
            "weekday\n",
            "##################################################\n",
            "weekday\n",
            "#################################################\n",
            "weekday\n",
            "###################################################\n",
            "Done\n"
          ],
          "name": "stdout"
        }
      ]
    },
    {
      "cell_type": "code",
      "metadata": {
        "id": "ts-gFEBigrOk",
        "colab": {
          "base_uri": "https://localhost:8080/",
          "height": 1000
        },
        "outputId": "21a2e598-16a9-469c-f23a-379e741224db"
      },
      "source": [
        "webtoon_df"
      ],
      "execution_count": null,
      "outputs": [
        {
          "output_type": "execute_result",
          "data": {
            "text/html": [
              "<div>\n",
              "<style scoped>\n",
              "    .dataframe tbody tr th:only-of-type {\n",
              "        vertical-align: middle;\n",
              "    }\n",
              "\n",
              "    .dataframe tbody tr th {\n",
              "        vertical-align: top;\n",
              "    }\n",
              "\n",
              "    .dataframe thead th {\n",
              "        text-align: right;\n",
              "    }\n",
              "</style>\n",
              "<table border=\"1\" class=\"dataframe\">\n",
              "  <thead>\n",
              "    <tr style=\"text-align: right;\">\n",
              "      <th></th>\n",
              "      <th>Weekday</th>\n",
              "      <th>Title</th>\n",
              "      <th>Author</th>\n",
              "      <th>Story</th>\n",
              "      <th>Genre</th>\n",
              "      <th>Age</th>\n",
              "      <th>Webtoon URL</th>\n",
              "    </tr>\n",
              "  </thead>\n",
              "  <tbody>\n",
              "    <tr>\n",
              "      <th>0</th>\n",
              "      <td>월요 웹툰</td>\n",
              "      <td>인생존망</td>\n",
              "      <td>박태준 / 전선욱</td>\n",
              "      <td>학교 다닐때 그렇게 놀았으면, 졸업하고 지금은 불행해야하는거 아니야?너 때문에 망한 내인생, 너도 한번 당해봐</td>\n",
              "      <td>에피소드, 액션</td>\n",
              "      <td>15세 이용가</td>\n",
              "      <td>https://comic.naver.com/webtoon/list.nhn?titleId=733766&amp;weekday=mon</td>\n",
              "    </tr>\n",
              "    <tr>\n",
              "      <th>1</th>\n",
              "      <td>월요 웹툰</td>\n",
              "      <td>뷰티풀 군바리</td>\n",
              "      <td>설이 / 윤성원</td>\n",
              "      <td>'여자도 군대에 간다면?'본격 여자도 군대 가는 만화!본 작품은 2014 네이버 수퍼루키 공모전 당선작품입니다.</td>\n",
              "      <td>스토리, 드라마</td>\n",
              "      <td>15세 이용가</td>\n",
              "      <td>https://comic.naver.com/webtoon/list.nhn?titleId=648419&amp;weekday=mon</td>\n",
              "    </tr>\n",
              "    <tr>\n",
              "      <th>2</th>\n",
              "      <td>월요 웹툰</td>\n",
              "      <td>윈드브레이커</td>\n",
              "      <td>조용석</td>\n",
              "      <td>자유를 꿈꾸는 청춘들의 스트릿라이딩 드라마</td>\n",
              "      <td>스토리, 스포츠</td>\n",
              "      <td>12세 이용가</td>\n",
              "      <td>https://comic.naver.com/webtoon/list.nhn?titleId=602910&amp;weekday=mon</td>\n",
              "    </tr>\n",
              "    <tr>\n",
              "      <th>3</th>\n",
              "      <td>월요 웹툰</td>\n",
              "      <td>소녀의 세계</td>\n",
              "      <td>모랑지</td>\n",
              "      <td>완벽해 보이지만 사실 외로웠던 백조들과 맘씨 착한 오리가 만나여러 갈등을 함께 겪으며 진짜 친구가 되어가는데...</td>\n",
              "      <td>스토리, 드라마</td>\n",
              "      <td>전체연령가</td>\n",
              "      <td>https://comic.naver.com/webtoon/list.nhn?titleId=654774&amp;weekday=mon</td>\n",
              "    </tr>\n",
              "    <tr>\n",
              "      <th>4</th>\n",
              "      <td>월요 웹툰</td>\n",
              "      <td>백수세끼</td>\n",
              "      <td>치즈</td>\n",
              "      <td>이별 뒤에도 밥은 넘어간다.백수 재호가 먹는 세끼</td>\n",
              "      <td>스토리, 드라마</td>\n",
              "      <td>전체연령가</td>\n",
              "      <td>https://comic.naver.com/webtoon/list.nhn?titleId=733074&amp;weekday=mon</td>\n",
              "    </tr>\n",
              "    <tr>\n",
              "      <th>...</th>\n",
              "      <td>...</td>\n",
              "      <td>...</td>\n",
              "      <td>...</td>\n",
              "      <td>...</td>\n",
              "      <td>...</td>\n",
              "      <td>...</td>\n",
              "      <td>...</td>\n",
              "    </tr>\n",
              "    <tr>\n",
              "      <th>350</th>\n",
              "      <td>일요 웹툰</td>\n",
              "      <td>위험한 신입사원</td>\n",
              "      <td>박수정 / Jiya</td>\n",
              "      <td>신입사원만 기다려온 입사 3년 차 그녀 정유림그런데 왜 하필 회장님의 친손자가 신입 막내라니?!신입사원 연하남과 위험천만 비밀 연애가 시작된다.</td>\n",
              "      <td>스토리, 로맨스</td>\n",
              "      <td>전체연령가</td>\n",
              "      <td>https://comic.naver.com/webtoon/list.nhn?titleId=729883&amp;weekday=sun</td>\n",
              "    </tr>\n",
              "    <tr>\n",
              "      <th>351</th>\n",
              "      <td>일요 웹툰</td>\n",
              "      <td>불발소년</td>\n",
              "      <td>곤세</td>\n",
              "      <td>킬러소년 민준, 소녀를 만나고 삶이 달라지다</td>\n",
              "      <td>에피소드, 드라마</td>\n",
              "      <td>전체연령가</td>\n",
              "      <td>https://comic.naver.com/webtoon/list.nhn?titleId=743721&amp;weekday=sun</td>\n",
              "    </tr>\n",
              "    <tr>\n",
              "      <th>352</th>\n",
              "      <td>일요 웹툰</td>\n",
              "      <td>선녀야 야옹해봐!</td>\n",
              "      <td>햄톨탱크</td>\n",
              "      <td>사랑 인연을 이어주기 위해 지상에 온 선녀 초미.톱스타 강수에게 냥줍을 당하다..!!</td>\n",
              "      <td>스토리, 로맨스</td>\n",
              "      <td>전체연령가</td>\n",
              "      <td>https://comic.naver.com/webtoon/list.nhn?titleId=738547&amp;weekday=sun</td>\n",
              "    </tr>\n",
              "    <tr>\n",
              "      <th>353</th>\n",
              "      <td>일요 웹툰</td>\n",
              "      <td>8월의 눈보라</td>\n",
              "      <td>김리아</td>\n",
              "      <td>교복모델이었던 보라는 암흑 고3 시절을 거치며 이전의 모습은 온데간데 없다.설상가상 재수까지 하게되고 학원에서 첫사랑 현우를 마주치고야 만다.\"가장 빛나는 시절 만났던 너에게 가장 어두운 지금 나를 보여주고 싶지 않아.\"</td>\n",
              "      <td>스토리, 로맨스</td>\n",
              "      <td>전체연령가</td>\n",
              "      <td>https://comic.naver.com/webtoon/list.nhn?titleId=703856&amp;weekday=sun</td>\n",
              "    </tr>\n",
              "    <tr>\n",
              "      <th>354</th>\n",
              "      <td>일요 웹툰</td>\n",
              "      <td>마도</td>\n",
              "      <td>이밤</td>\n",
              "      <td>\"그 얼굴, 안 쓸 거면 나줘!\"위험한 변신이 시작된다.</td>\n",
              "      <td>스토리, 판타지</td>\n",
              "      <td>15세 이용가</td>\n",
              "      <td>https://comic.naver.com/webtoon/list.nhn?titleId=737021&amp;weekday=sun</td>\n",
              "    </tr>\n",
              "  </tbody>\n",
              "</table>\n",
              "<p>355 rows × 7 columns</p>\n",
              "</div>"
            ],
            "text/plain": [
              "    Weekday  ...                                                          Webtoon URL\n",
              "0    월요 웹툰   ...  https://comic.naver.com/webtoon/list.nhn?titleId=733766&weekday=mon\n",
              "1    월요 웹툰   ...  https://comic.naver.com/webtoon/list.nhn?titleId=648419&weekday=mon\n",
              "2    월요 웹툰   ...  https://comic.naver.com/webtoon/list.nhn?titleId=602910&weekday=mon\n",
              "3    월요 웹툰   ...  https://comic.naver.com/webtoon/list.nhn?titleId=654774&weekday=mon\n",
              "4    월요 웹툰   ...  https://comic.naver.com/webtoon/list.nhn?titleId=733074&weekday=mon\n",
              "..     ...   ...                                                                  ...\n",
              "350  일요 웹툰   ...  https://comic.naver.com/webtoon/list.nhn?titleId=729883&weekday=sun\n",
              "351  일요 웹툰   ...  https://comic.naver.com/webtoon/list.nhn?titleId=743721&weekday=sun\n",
              "352  일요 웹툰   ...  https://comic.naver.com/webtoon/list.nhn?titleId=738547&weekday=sun\n",
              "353  일요 웹툰   ...  https://comic.naver.com/webtoon/list.nhn?titleId=703856&weekday=sun\n",
              "354  일요 웹툰   ...  https://comic.naver.com/webtoon/list.nhn?titleId=737021&weekday=sun\n",
              "\n",
              "[355 rows x 7 columns]"
            ]
          },
          "metadata": {
            "tags": []
          },
          "execution_count": 19
        }
      ]
    }
  ]
}